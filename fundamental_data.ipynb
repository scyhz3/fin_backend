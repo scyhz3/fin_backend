{
 "cells": [
  {
   "cell_type": "code",
   "id": "initial_id",
   "metadata": {
    "collapsed": true,
    "ExecuteTime": {
     "end_time": "2025-09-19T11:55:03.740699Z",
     "start_time": "2025-09-19T11:55:02.149624Z"
    }
   },
   "source": [
    "# import necessary libraries\n",
    "import requests\n",
    "import pandas as pd\n",
    "import matplotlib.pyplot as plt\n",
    "import dotenv\n",
    "import os\n",
    "from types import SimpleNamespace\n",
    "\n",
    "# Load environment variables from .env file\n",
    "dotenv.load_dotenv()\n",
    "ALPHAVANTAGE_API_KEY = os.getenv(\"ALPHAVANTAGE_API_KEY\")\n",
    "\n",
    "FUNCTIONS = SimpleNamespace(\n",
    "    overview=\"OVERVIEW\",\n",
    "    dividends=\"DIVIDENDS\",\n",
    "    income_statement=\"INCOME_STATEMENT\",\n",
    "    balance_sheet=\"BALANCE_SHEET\",\n",
    "    cash_flow=\"CASH_FLOW\",\n",
    "    earnings=\"EARNINGS\"\n",
    ")\n",
    "\n",
    "\n",
    "SYMBOL = \"TSLA\"\n",
    "INTERVAL = \"1day\"\n",
    "\n",
    "main_url = \"https://www.alphavantage.co/query\""
   ],
   "outputs": [],
   "execution_count": 1
  },
  {
   "metadata": {
    "ExecuteTime": {
     "end_time": "2025-09-19T11:55:03.998427Z",
     "start_time": "2025-09-19T11:55:03.757180Z"
    }
   },
   "cell_type": "code",
   "source": [
    "# Example: Fetching company overview\n",
    "\n",
    "url_overview = f\"{main_url}?function={FUNCTIONS.overview}&symbol={SYMBOL}&apikey={ALPHAVANTAGE_API_KEY}\"\n",
    "r = requests.get(url_overview)\n",
    "data = r.json()\n",
    "\n",
    "print(data)\n",
    "\n",
    "# # convert the data to a pandas dataframe\n",
    "# df_overview = pd.DataFrame([data])  # Wrap data in a list to create\n",
    "# # a single-row DataFrame\n",
    "# # print all the df_overview\n",
    "# print(df_overview)"
   ],
   "id": "94b4e19c9da4d99d",
   "outputs": [
    {
     "name": "stdout",
     "output_type": "stream",
     "text": [
      "{'Symbol': 'TSLA', 'AssetType': 'Common Stock', 'Name': 'Tesla Inc', 'Description': 'Tesla, Inc. is a leading American electric vehicle and clean energy company headquartered in Palo Alto, California. With a diverse product portfolio that includes electric cars, battery energy storage solutions, and solar energy products, Tesla is at the forefront of sustainable transportation and energy innovation. In 2020, Tesla captured a significant share of the global market, achieving a 16% share in the plug-in vehicle segment and 23% in the battery-electric vehicle segment, solidifying its position as the largest seller of electric vehicles. Additionally, through its subsidiary Tesla Energy, the company is a key player in the solar and battery storage market, making substantial contributions to the renewable energy landscape. As it continues to scale production and expand its product offerings, Tesla remains poised for long-term growth and leadership in the transition to a more sustainable future.', 'CIK': '1318605', 'Exchange': 'NASDAQ', 'Currency': 'USD', 'Country': 'USA', 'Sector': 'CONSUMER CYCLICAL', 'Industry': 'AUTO MANUFACTURERS', 'Address': '1 TESLA ROAD, AUSTIN, TX, UNITED STATES, 78725', 'OfficialSite': 'https://www.tesla.com', 'FiscalYearEnd': 'December', 'LatestQuarter': '2025-06-30', 'MarketCapitalization': '1386089153000', 'EBITDA': '11440000000', 'PERatio': '249.61', 'PEGRatio': '7.42', 'BookValue': '23.98', 'DividendPerShare': 'None', 'DividendYield': 'None', 'EPS': '1.67', 'RevenuePerShareTTM': '28.86', 'ProfitMargin': '0.0634', 'OperatingMarginTTM': '0.041', 'ReturnOnAssetsTTM': '0.0296', 'ReturnOnEquityTTM': '0.0818', 'RevenueTTM': '92719997000', 'GrossProfitTTM': '16207000000', 'DilutedEPSTTM': '1.67', 'QuarterlyEarningsGrowthYOY': '-0.175', 'QuarterlyRevenueGrowthYOY': '-0.118', 'AnalystTargetPrice': '325.58', 'AnalystRatingStrongBuy': '5', 'AnalystRatingBuy': '14', 'AnalystRatingHold': '18', 'AnalystRatingSell': '7', 'AnalystRatingStrongSell': '3', 'TrailingPE': '249.61', 'ForwardPE': '163.93', 'PriceToSalesRatioTTM': '14.95', 'PriceToBookRatio': '17.93', 'EVToRevenue': '14.69', 'EVToEBITDA': '100.61', 'Beta': '2.065', '52WeekHigh': '488.54', '52WeekLow': '212.11', '50DayMovingAverage': '337.95', '200DayMovingAverage': '332.36', 'SharesOutstanding': '3325151000', 'SharesFloat': '2724246000', 'PercentInsiders': '12.875', 'PercentInstitutions': '50.949', 'DividendDate': 'None', 'ExDividendDate': 'None'}\n"
     ]
    }
   ],
   "execution_count": 2
  },
  {
   "metadata": {
    "ExecuteTime": {
     "end_time": "2025-09-19T11:55:04.135777Z",
     "start_time": "2025-09-16T11:47:40.017585Z"
    }
   },
   "cell_type": "code",
   "source": [
    "# save df_overview to csv\n",
    "# df_overview.to_csv(\"tsla_overview.csv\")"
   ],
   "id": "48b970f5e970d8c1",
   "outputs": [],
   "execution_count": 5
  }
 ],
 "metadata": {
  "kernelspec": {
   "display_name": "Python 3",
   "language": "python",
   "name": "python3"
  },
  "language_info": {
   "codemirror_mode": {
    "name": "ipython",
    "version": 2
   },
   "file_extension": ".py",
   "mimetype": "text/x-python",
   "name": "python",
   "nbconvert_exporter": "python",
   "pygments_lexer": "ipython2",
   "version": "2.7.6"
  }
 },
 "nbformat": 4,
 "nbformat_minor": 5
}
