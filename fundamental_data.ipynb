{
 "cells": [
  {
   "cell_type": "code",
   "id": "initial_id",
   "metadata": {
    "collapsed": true,
    "ExecuteTime": {
     "end_time": "2025-09-16T11:47:39.700300Z",
     "start_time": "2025-09-16T11:47:39.113718Z"
    }
   },
   "source": [
    "# import necessary libraries\n",
    "import requests\n",
    "import pandas as pd\n",
    "import matplotlib.pyplot as plt\n",
    "import dotenv\n",
    "import os\n",
    "from types import SimpleNamespace\n",
    "\n",
    "# Load environment variables from .env file\n",
    "dotenv.load_dotenv()\n",
    "ALPHAVANTAGE_API_KEY = os.getenv(\"ALPHAVANTAGE_API_KEY\")\n",
    "\n",
    "FUNCTIONS = SimpleNamespace(\n",
    "    overview=\"OVERVIEW\",\n",
    "    dividends=\"DIVIDENDS\",\n",
    "    income_statement=\"INCOME_STATEMENT\",\n",
    "    balance_sheet=\"BALANCE_SHEET\",\n",
    "    cash_flow=\"CASH_FLOW\",\n",
    "    earnings=\"EARNINGS\"\n",
    ")\n",
    "\n",
    "\n",
    "SYMBOL = \"TSLA\"\n",
    "INTERVAL = \"1day\"\n",
    "\n",
    "main_url = \"https://www.alphavantage.co/query\""
   ],
   "outputs": [],
   "execution_count": 2
  },
  {
   "metadata": {
    "ExecuteTime": {
     "end_time": "2025-09-16T11:47:39.990496Z",
     "start_time": "2025-09-16T11:47:39.705497Z"
    }
   },
   "cell_type": "code",
   "source": [
    "# Example: Fetching company overview\n",
    "\n",
    "url_overview = f\"{main_url}?function={FUNCTIONS.overview}&symbol={SYMBOL}&apikey={ALPHAVANTAGE_API_KEY}\"\n",
    "r = requests.get(url_overview)\n",
    "data = r.json()\n",
    "\n",
    "# convert the data to a pandas dataframe\n",
    "df_overview = pd.DataFrame([data])  # Wrap data in a list to create\n",
    "# a single-row DataFrame\n",
    "# print all the df_overview\n",
    "print(df_overview)"
   ],
   "id": "94b4e19c9da4d99d",
   "outputs": [
    {
     "name": "stdout",
     "output_type": "stream",
     "text": [
      "  Symbol     AssetType       Name  \\\n",
      "0   TSLA  Common Stock  Tesla Inc   \n",
      "\n",
      "                                         Description      CIK Exchange  \\\n",
      "0  Tesla, Inc. is an American electric vehicle an...  1318605   NASDAQ   \n",
      "\n",
      "  Currency Country             Sector            Industry  ... 52WeekHigh  \\\n",
      "0      USD     USA  CONSUMER CYCLICAL  AUTO MANUFACTURERS  ...     488.54   \n",
      "\n",
      "  52WeekLow 50DayMovingAverage 200DayMovingAverage SharesOutstanding  \\\n",
      "0    212.11             330.42              331.09        3225450000   \n",
      "\n",
      "  SharesFloat PercentInsiders PercentInstitutions DividendDate ExDividendDate  \n",
      "0  2819913000          12.875              50.941         None           None  \n",
      "\n",
      "[1 rows x 55 columns]\n"
     ]
    }
   ],
   "execution_count": 3
  },
  {
   "metadata": {
    "ExecuteTime": {
     "end_time": "2025-09-16T11:47:40.006698Z",
     "start_time": "2025-09-16T11:47:40.003375Z"
    }
   },
   "cell_type": "code",
   "source": [
    "# transpose the dataframe\n",
    "df_overview = df_overview.T\n",
    "# print all the df_overview\n",
    "print(df_overview)"
   ],
   "id": "aedd179c3400bdf9",
   "outputs": [
    {
     "name": "stdout",
     "output_type": "stream",
     "text": [
      "                                                                            0\n",
      "Symbol                                                                   TSLA\n",
      "AssetType                                                        Common Stock\n",
      "Name                                                                Tesla Inc\n",
      "Description                 Tesla, Inc. is an American electric vehicle an...\n",
      "CIK                                                                   1318605\n",
      "Exchange                                                               NASDAQ\n",
      "Currency                                                                  USD\n",
      "Country                                                                   USA\n",
      "Sector                                                      CONSUMER CYCLICAL\n",
      "Industry                                                   AUTO MANUFACTURERS\n",
      "Address                        1 TESLA ROAD, AUSTIN, TX, UNITED STATES, 78725\n",
      "OfficialSite                                            https://www.tesla.com\n",
      "FiscalYearEnd                                                        December\n",
      "LatestQuarter                                                      2025-06-30\n",
      "MarketCapitalization                                            1322563535000\n",
      "EBITDA                                                            11346000000\n",
      "PERatio                                                                 238.4\n",
      "PEGRatio                                                                 7.05\n",
      "BookValue                                                               23.98\n",
      "DividendPerShare                                                         None\n",
      "DividendYield                                                            None\n",
      "EPS                                                                      1.72\n",
      "RevenuePerShareTTM                                                      28.86\n",
      "ProfitMargin                                                           0.0634\n",
      "OperatingMarginTTM                                                      0.041\n",
      "ReturnOnAssetsTTM                                                      0.0291\n",
      "ReturnOnEquityTTM                                                      0.0818\n",
      "RevenueTTM                                                        92719997000\n",
      "GrossProfitTTM                                                    16207000000\n",
      "DilutedEPSTTM                                                            1.72\n",
      "QuarterlyEarningsGrowthYOY                                             -0.175\n",
      "QuarterlyRevenueGrowthYOY                                              -0.118\n",
      "AnalystTargetPrice                                                      314.1\n",
      "AnalystRatingStrongBuy                                                      5\n",
      "AnalystRatingBuy                                                           14\n",
      "AnalystRatingHold                                                          18\n",
      "AnalystRatingSell                                                           7\n",
      "AnalystRatingStrongSell                                                     3\n",
      "TrailingPE                                                              238.4\n",
      "ForwardPE                                                              156.25\n",
      "PriceToSalesRatioTTM                                                    14.26\n",
      "PriceToBookRatio                                                        16.52\n",
      "EVToRevenue                                                             13.52\n",
      "EVToEBITDA                                                              92.56\n",
      "Beta                                                                    2.065\n",
      "52WeekHigh                                                             488.54\n",
      "52WeekLow                                                              212.11\n",
      "50DayMovingAverage                                                     330.42\n",
      "200DayMovingAverage                                                    331.09\n",
      "SharesOutstanding                                                  3225450000\n",
      "SharesFloat                                                        2819913000\n",
      "PercentInsiders                                                        12.875\n",
      "PercentInstitutions                                                    50.941\n",
      "DividendDate                                                             None\n",
      "ExDividendDate                                                           None\n"
     ]
    }
   ],
   "execution_count": 4
  },
  {
   "metadata": {
    "ExecuteTime": {
     "end_time": "2025-09-16T11:47:40.021447Z",
     "start_time": "2025-09-16T11:47:40.017585Z"
    }
   },
   "cell_type": "code",
   "source": [
    "# save df_overview to csv\n",
    "df_overview.to_csv(\"tsla_overview.csv\")"
   ],
   "id": "48b970f5e970d8c1",
   "outputs": [],
   "execution_count": 5
  }
 ],
 "metadata": {
  "kernelspec": {
   "display_name": "Python 3",
   "language": "python",
   "name": "python3"
  },
  "language_info": {
   "codemirror_mode": {
    "name": "ipython",
    "version": 2
   },
   "file_extension": ".py",
   "mimetype": "text/x-python",
   "name": "python",
   "nbconvert_exporter": "python",
   "pygments_lexer": "ipython2",
   "version": "2.7.6"
  }
 },
 "nbformat": 4,
 "nbformat_minor": 5
}
